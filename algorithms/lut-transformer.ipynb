{
 "cells": [
  {
   "cell_type": "code",
   "execution_count": 1,
   "id": "7d901505",
   "metadata": {},
   "outputs": [],
   "source": [
    "from PIL import Image\n",
    "import numpy as np"
   ]
  },
  {
   "cell_type": "code",
   "execution_count": 2,
   "id": "a1f21c32",
   "metadata": {},
   "outputs": [
    {
     "data": {
      "image/png": "[encoded data removed]",
      "text/plain": [
       "<PIL.PngImagePlugin.PngImageFile image mode=RGB size=64x64>"
      ]
     },
     "execution_count": 2,
     "metadata": {},
     "output_type": "execute_result"
    }
   ],
   "source": [
    "lut = Image.open(\"/Users/vzhavoronkov/Developer/mediapipe/mediapipe/examples/ios/sandbox/white.teeth.src.png\")\n",
    "\n",
    "lut"
   ]
  },
  {
   "cell_type": "code",
   "execution_count": 3,
   "id": "c5ee2236",
   "metadata": {},
   "outputs": [],
   "source": [
    "reshaped = np.asarray(lut)"
   ]
  },
  {
   "cell_type": "code",
   "execution_count": 7,
   "id": "0fbab3d4",
   "metadata": {},
   "outputs": [],
   "source": [
    "def hald(pixels, width, height, cube_width, cube_height):\n",
    "    pixelsInRow = width // cube_width\n",
    "    rowsInBlock = height // cube_height\n",
    "    blocksInROW = cube_width\n",
    "    blocksCount = cube_width * cube_height\n",
    "    rowsInROW = blocksInROW * rowsInBlock\n",
    "    \n",
    "    output = [0 for i in range(width * height)]\n",
    "    for rowIndex in range(rowsInBlock * blocksCount):\n",
    "        baseRow = rowIndex * pixelsInRow\n",
    "        row = pixels[baseRow:(baseRow + pixelsInRow)]\n",
    "        (x, y) = (rowIndex % blocksInROW, rowIndex // rowsInROW)\n",
    "        yInBlock = (rowIndex - y * rowsInROW) // blocksInROW\n",
    "        baseTransformed = (y * rowsInROW + x * pixelsInRow + yInBlock) * pixelsInRow\n",
    "        output[baseTransformed:(baseTransformed + pixelsInRow)] = row            \n",
    "        \n",
    "    return output\n",
    "        \n",
    "transformed = np.asarray(hald(reshaped.reshape((4096, 3)), lut.width, lut.height, 4, 4))"
   ]
  },
  {
   "cell_type": "code",
   "execution_count": 8,
   "id": "af00738c",
   "metadata": {},
   "outputs": [
    {
     "data": {
      "image/png": "[encoded data removed]",
      "text/plain": [
       "<PIL.Image.Image image mode=RGB size=64x64>"
      ]
     },
     "execution_count": 8,
     "metadata": {},
     "output_type": "execute_result"
    }
   ],
   "source": [
    "img = Image.fromarray(transformed.reshape((lut.width, lut.height, 3)))\n",
    "img.save(\"/tmp/img1.png\",\"PNG\")\n",
    "img"
   ]
  },
  {
   "cell_type": "code",
   "execution_count": 9,
   "id": "a20058d3",
   "metadata": {},
   "outputs": [
    {
     "data": {
      "image/png": "[encoded data removed]",
      "text/plain": [
       "<PIL.PngImagePlugin.PngImageFile image mode=RGB size=64x64>"
      ]
     },
     "execution_count": 9,
     "metadata": {},
     "output_type": "execute_result"
    }
   ],
   "source": [
    "img1 = Image.open(\"/Users/vzhavoronkov/Developer/mediapipe/mediapipe/examples/ios/sandbox/whiteTeeth.png\")\n",
    "img1"
   ]
  },
  {
   "cell_type": "code",
   "execution_count": 10,
   "id": "33d0e13b",
   "metadata": {},
   "outputs": [
    {
     "data": {
      "image/png": "[encoded data removed]",
      "text/plain": [
       "<PIL.PngImagePlugin.PngImageFile image mode=RGB size=64x64>"
      ]
     },
     "execution_count": 10,
     "metadata": {},
     "output_type": "execute_result"
    }
   ],
   "source": [
    "img2 = Image.open(\"/tmp/img1.png\")\n",
    "img2"
   ]
  },
  {
   "cell_type": "code",
   "execution_count": 11,
   "id": "69dd9d27",
   "metadata": {},
   "outputs": [
    {
     "data": {
      "text/plain": [
       "array([[[ True,  True,  True],\n",
       "        [ True,  True,  True],\n",
       "        [ True,  True,  True],\n",
       "        ...,\n",
       "        [ True,  True,  True],\n",
       "        [ True,  True,  True],\n",
       "        [ True,  True,  True]],\n",
       "\n",
       "       [[ True,  True,  True],\n",
       "        [ True,  True,  True],\n",
       "        [ True,  True,  True],\n",
       "        ...,\n",
       "        [ True,  True,  True],\n",
       "        [ True,  True,  True],\n",
       "        [ True,  True,  True]],\n",
       "\n",
       "       [[ True,  True,  True],\n",
       "        [ True,  True,  True],\n",
       "        [ True,  True,  True],\n",
       "        ...,\n",
       "        [ True,  True,  True],\n",
       "        [ True,  True,  True],\n",
       "        [ True,  True,  True]],\n",
       "\n",
       "       ...,\n",
       "\n",
       "       [[ True,  True,  True],\n",
       "        [ True,  True,  True],\n",
       "        [ True,  True,  True],\n",
       "        ...,\n",
       "        [ True,  True,  True],\n",
       "        [ True,  True,  True],\n",
       "        [ True,  True,  True]],\n",
       "\n",
       "       [[ True,  True,  True],\n",
       "        [ True,  True,  True],\n",
       "        [ True,  True,  True],\n",
       "        ...,\n",
       "        [ True,  True,  True],\n",
       "        [ True,  True,  True],\n",
       "        [ True,  True,  True]],\n",
       "\n",
       "       [[ True,  True,  True],\n",
       "        [ True,  True,  True],\n",
       "        [ True,  True,  True],\n",
       "        ...,\n",
       "        [ True,  True,  True],\n",
       "        [ True,  True,  True],\n",
       "        [ True,  True,  True]]])"
      ]
     },
     "execution_count": 11,
     "metadata": {},
     "output_type": "execute_result"
    }
   ],
   "source": [
    "np.equal(np.asarray(img1), np.asarray(img2))"
   ]
  },
  {
   "cell_type": "code",
   "execution_count": null,
   "id": "dc95603e",
   "metadata": {},
   "outputs": [],
   "source": []
  }
 ],
 "metadata": {
  "kernelspec": {
   "display_name": "Python 3 (ipykernel)",
   "language": "python",
   "name": "python3"
  },
  "language_info": {
   "codemirror_mode": {
    "name": "ipython",
    "version": 3
   },
   "file_extension": ".py",
   "mimetype": "text/x-python",
   "name": "python",
   "nbconvert_exporter": "python",
   "pygments_lexer": "ipython3",
   "version": "3.9.13"
  }
 },
 "nbformat": 4,
 "nbformat_minor": 5
}
