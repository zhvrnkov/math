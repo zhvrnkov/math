{
 "cells": [
  {
   "cell_type": "markdown",
   "id": "6357264e",
   "metadata": {},
   "source": [
    "In this notebook I'll implement some basic image-scaling (mainly downscaling algorithms) because I've really interested in GPU's mipmapping thing."
   ]
  },
  {
   "cell_type": "code",
   "execution_count": 284,
   "id": "c812c778",
   "metadata": {},
   "outputs": [],
   "source": [
    "import numpy as np\n",
    "import matplotlib.pyplot as plt\n",
    "from math import *\n"
   ]
  },
  {
   "cell_type": "code",
   "execution_count": 285,
   "id": "ae31872c",
   "metadata": {},
   "outputs": [
    {
     "data": {
      "text/plain": [
       "[<matplotlib.lines.Line2D at 0x15f691d90>]"
      ]
     },
     "execution_count": 285,
     "metadata": {},
     "output_type": "execute_result"
    },
    {
     "data": {
      "image/png": "[encoded data removed]",
      "text/plain": [
       "<Figure size 432x288 with 1 Axes>"
      ]
     },
     "metadata": {
      "needs_background": "light"
     },
     "output_type": "display_data"
    }
   ],
   "source": [
    "def lerp(a, b, t):\n",
    "    return a + (b - a) * t\n",
    "\n",
    "a = 1\n",
    "b = 5\n",
    "ts = np.linspace(0, 10)\n",
    "\n",
    "plt.plot(ts, [lerp(a, b, t) for t in ts])"
   ]
  },
  {
   "cell_type": "code",
   "execution_count": 286,
   "id": "eb621453",
   "metadata": {},
   "outputs": [],
   "source": [
    "# clone of np.linspace\n",
    "def lerp_c(a, b, count):\n",
    "    if count == 0:\n",
    "        return []\n",
    "    if count == 1:\n",
    "        return [a]\n",
    "    return [lerp(a, b, float(c) / float(count - 1)) for c in range(count)]\n",
    "\n",
    "# steps = [x1, x2, x3, ..., xn]\n",
    "# distance\n",
    "# output = [x1, ..., x(1 + distance + 1), ...]\n",
    "def lerp1D(steps, distance):\n",
    "    output = []\n",
    "    for index in range(len(steps) - 1):\n",
    "        left = steps[index]\n",
    "        right = steps[index + 1]\n",
    "        output = output[:-1] + lerp_c(left, right, distance + 2)\n",
    "    return output\n"
   ]
  },
  {
   "cell_type": "code",
   "execution_count": 287,
   "id": "556895e1",
   "metadata": {},
   "outputs": [
    {
     "data": {
      "text/plain": [
       "[0.0, 0.5, 1.0, 1.5, 2.0]"
      ]
     },
     "execution_count": 287,
     "metadata": {},
     "output_type": "execute_result"
    }
   ],
   "source": [
    "lerp_c(0, 2, 5)"
   ]
  },
  {
   "cell_type": "code",
   "execution_count": 288,
   "id": "72093161",
   "metadata": {},
   "outputs": [
    {
     "data": {
      "text/plain": [
       "[0.0, 2.5, 5.0, 7.5, 10.0, 12.5, 15.0]"
      ]
     },
     "execution_count": 288,
     "metadata": {},
     "output_type": "execute_result"
    }
   ],
   "source": [
    "lerp1D([0, 5, 10, 15], 1)"
   ]
  },
  {
   "cell_type": "code",
   "execution_count": 289,
   "id": "c7d49f40",
   "metadata": {},
   "outputs": [],
   "source": [
    "def lerp2d(a, b, dw, dh):\n",
    "    [lerp(a, b, np.array(dh)) for w in range(dw + 1) for h in range(dh + 1)]\n",
    "\n",
    "def lerp2D(src, factor):\n",
    "    (src_w, src_h) = (len(src[0]), len(src))\n",
    "    (dst_w, dst_h) = (ceil(src_w * factor), ceil(src_h * factor))\n",
    "    \n",
    "    "
   ]
  },
  {
   "cell_type": "code",
   "execution_count": 290,
   "id": "2ec38653",
   "metadata": {},
   "outputs": [
    {
     "data": {
      "text/plain": [
       "array([1.6, 2. ])"
      ]
     },
     "execution_count": 290,
     "metadata": {},
     "output_type": "execute_result"
    }
   ],
   "source": [
    "lerp(1, 3, np.array([0.3, 0.5]))"
   ]
  },
  {
   "cell_type": "code",
   "execution_count": 291,
   "id": "f8bdc835",
   "metadata": {},
   "outputs": [
    {
     "data": {
      "text/plain": [
       "[<matplotlib.lines.Line2D at 0x15f702a60>]"
      ]
     },
     "execution_count": 291,
     "metadata": {},
     "output_type": "execute_result"
    },
    {
     "data": {
      "image/png": "[encoded data removed]",
      "text/plain": [
       "<Figure size 432x288 with 1 Axes>"
      ]
     },
     "metadata": {
      "needs_background": "light"
     },
     "output_type": "display_data"
    }
   ],
   "source": [
    "plt.plot([0, 0, 0], [1,2,3], 'bo')"
   ]
  },
  {
   "cell_type": "code",
   "execution_count": 292,
   "id": "7dbfca1a",
   "metadata": {},
   "outputs": [
    {
     "data": {
      "image/png": "[encoded data removed]",
      "text/plain": [
       "<Figure size 432x288 with 1 Axes>"
      ]
     },
     "metadata": {
      "needs_background": "light"
     },
     "output_type": "display_data"
    }
   ],
   "source": [
    "r = [1.0, 0, 0]\n",
    "w = [1.0, 1.0, 1.0]\n",
    "src = [\n",
    "    [r, w, r, w, w],\n",
    "    [w, r, w, r, r],\n",
    "    [r, w, r, r, w]\n",
    "]\n",
    "plt.imshow(src)\n",
    "\n",
    "def size(src):\n",
    "    height = len(src)\n",
    "    width = len(src[0])\n",
    "    return (width, height)\n",
    "\n",
    "def black_image(width, height):\n",
    "    return [[[0, 0, 0] for x in range(width)] for y in range(height)]"
   ]
  },
  {
   "cell_type": "code",
   "execution_count": 293,
   "id": "c0166136",
   "metadata": {},
   "outputs": [
    {
     "data": {
      "text/plain": [
       "<matplotlib.image.AxesImage at 0x15f7d2a00>"
      ]
     },
     "execution_count": 293,
     "metadata": {},
     "output_type": "execute_result"
    },
    {
     "data": {
      "image/png": "[encoded data removed]",
      "text/plain": [
       "<Figure size 432x288 with 1 Axes>"
      ]
     },
     "metadata": {
      "needs_background": "light"
     },
     "output_type": "display_data"
    }
   ],
   "source": [
    "def weird_scaling(src, factor):\n",
    "    width, height = size(src)\n",
    "    output = black_image(width * factor, height * factor)\n",
    "    for x in range(width):\n",
    "        for y in range(height):\n",
    "            output[y * factor][x * factor] = src[y][x]\n",
    "    return output\n",
    "\n",
    "scaled = weird_scaling(src, 3)\n",
    "plt.imshow(scaled)"
   ]
  },
  {
   "cell_type": "code",
   "execution_count": 294,
   "id": "325e9331",
   "metadata": {},
   "outputs": [
    {
     "data": {
      "text/plain": [
       "<matplotlib.image.AxesImage at 0x15f84b0d0>"
      ]
     },
     "execution_count": 294,
     "metadata": {},
     "output_type": "execute_result"
    },
    {
     "data": {
      "image/png": "[encoded data removed]",
      "text/plain": [
       "<Figure size 432x288 with 1 Axes>"
      ]
     },
     "metadata": {
      "needs_background": "light"
     },
     "output_type": "display_data"
    }
   ],
   "source": [
    "def nearest_neighbor(src, newWidth, newHeight):\n",
    "    width, height = size(src)\n",
    "    output = black_image(newWidth, newHeight)\n",
    "    for x in range(newWidth):\n",
    "        xround = min(round(float(x) / float(newWidth) * width), width - 1)\n",
    "        for y in range(newHeight):\n",
    "            yround = min(round(float(y) / float(newHeight) * height), height - 1)\n",
    "            output[y][x] = src[yround][xround]\n",
    "                               \n",
    "    return output\n",
    "\n",
    "scaled = nearest_neighbor(src, 3, 10)\n",
    "plt.imshow(scaled)\n"
   ]
  },
  {
   "cell_type": "code",
   "execution_count": 295,
   "id": "ca2f5088",
   "metadata": {},
   "outputs": [],
   "source": [
    "def linear_resize(array, size):\n",
    "    output = [None for x in range(size)]\n",
    "    \n",
    "    for index in range(size):\n",
    "        norm = float(index / (size - 1)) * float(len(array) - 1)\n",
    "        left = floor(norm)\n",
    "        right = ceil(norm)\n",
    "        floating = norm - left\n",
    "        output[index] = lerp(array[left], array[right], floating)\n",
    "    \n",
    "    return output\n",
    "\n",
    "def bilinear_resize(src, newWidth, newHeight):\n",
    "    (width, height) = size(src)\n",
    "    output = black_image(newWidth, newHeight)\n",
    "    for y in range(newHeight):\n",
    "        y_norm = float(y / (newHeight - 1)) * float(width - 1)\n",
    "        y_top = floor(y_norm)\n",
    "        y_bot = ceil(y_norm)\n",
    "        y_floating = y_norm - y_top\n",
    "        for x in range(newWidth):\n",
    "            x_norm = float(x / (newWidth - 1)) * float(height - 1)\n",
    "            x_left = floor(x_norm)\n",
    "            x_right = ceil(x_norm)\n",
    "            x_floating = x_norm - x_left\n",
    "            \n",
    "            top = lerp(src[y_top][x_left], src[y_top][x_right], x_floating)\n",
    "            bot = lerp(src[y_bot][x_left], src[y_bot][x_right], x_floating)\n",
    "            output[y][x] = lerp(top, bot, y_floating)\n",
    "            \n",
    "    return output"
   ]
  },
  {
   "cell_type": "code",
   "execution_count": 296,
   "id": "836ba390",
   "metadata": {},
   "outputs": [
    {
     "data": {
      "image/png": "[encoded data removed]",
      "text/plain": [
       "<Figure size 432x288 with 1 Axes>"
      ]
     },
     "metadata": {
      "needs_background": "light"
     },
     "output_type": "display_data"
    }
   ],
   "source": [
    "def display_grayscale(image):\n",
    "    plt.imshow([image], cmap='gray', vmin=0, vmax=1.0)\n",
    "\n",
    "image = [0, 1.0]\n",
    "display_grayscale(image)"
   ]
  },
  {
   "cell_type": "code",
   "execution_count": 297,
   "id": "aff989af",
   "metadata": {},
   "outputs": [
    {
     "data": {
      "image/png": "[encoded data removed]",
      "text/plain": [
       "<Figure size 432x288 with 1 Axes>"
      ]
     },
     "metadata": {
      "needs_background": "light"
     },
     "output_type": "display_data"
    }
   ],
   "source": [
    "display_grayscale(linear_resize(image, 20))"
   ]
  },
  {
   "cell_type": "code",
   "execution_count": 298,
   "id": "6a96b89e",
   "metadata": {},
   "outputs": [
    {
     "data": {
      "text/plain": [
       "<matplotlib.image.AxesImage at 0x15fa50f10>"
      ]
     },
     "execution_count": 298,
     "metadata": {},
     "output_type": "execute_result"
    },
    {
     "data": {
      "image/png": "[encoded data removed]",
      "text/plain": [
       "<Figure size 432x288 with 1 Axes>"
      ]
     },
     "metadata": {
      "needs_background": "light"
     },
     "output_type": "display_data"
    }
   ],
   "source": [
    "matrix1 = np.array([\n",
    "    [0.0, 0.8],\n",
    "    [0.5, 1.0]\n",
    "])\n",
    "plt.imshow(bilinear_resize(bilinear_resize(matrix1, 100, 100), 3, 3), cmap='gray', vmin=0, vmax=1.0)"
   ]
  },
  {
   "cell_type": "code",
   "execution_count": 445,
   "id": "4f71cae1",
   "metadata": {},
   "outputs": [],
   "source": [
    "def list_get (xs, i, default):\n",
    "    try:\n",
    "        return xs[i]\n",
    "    except IndexError:\n",
    "        return default\n",
    "\n",
    "def list_get_2d (xs, a, b, default):\n",
    "    try:\n",
    "        return xs[a][b]\n",
    "    except IndexError:\n",
    "        return default\n",
    "\n",
    "\n",
    "def cubic(a, b, c, d):\n",
    "    return lambda x: a* x**3 + b * x**2 + c * x + d\n",
    "\n",
    "def cubic1(p0, p1, m0, m1):\n",
    "    return lambda t: (2 * t**3 - 3 * t**2 + 1) * p0 + (t**3 - 2 * t**2 + t) * m0 + (-2 * t**3 + 3 * t**2) * p1 + (t**3 - t**2) * m1\n",
    "\n",
    "def cubic_ps(ps):\n",
    "    [pm1, p0, p1, p2] = ps\n",
    "    dp0 = (p1 - pm1) / 2\n",
    "    dp1 = (p2 - p0) / 2\n",
    "    d = p0\n",
    "    c = dp0\n",
    "    b = -(dp1 - dp0 - 3 * (-p0 + pm1))\n",
    "    a = p1 - d - c - b\n",
    "    return cubic(a, b, c, d)\n",
    "\n",
    "def cubic_resize(array, size):\n",
    "    output = [None for x in range(size)]\n",
    "    for index in range(size):\n",
    "        norm = float(index / (size - 1)) * float(len(array) - 1)\n",
    "        left = floor(norm)\n",
    "        right = ceil(norm)\n",
    "        x0 = array[left]\n",
    "        x1 = array[right]\n",
    "        xm1 = list_get(array, left - 1, x0)\n",
    "        x2 = list_get(array, right + 1, x1)\n",
    "        floating = norm - left\n",
    "\n",
    "        f_1 = cubic_ps([xm1, x0, x1, x2])\n",
    "        output[index] = f_1(floating)\n",
    "        pass\n",
    "    return output\n",
    "\n",
    "def pixels_matrix(src, xs, ys):\n",
    "    output = np.zeros((len(ys), len(xs)))\n",
    "    for (iy, y) in enumerate(ys):\n",
    "        for (ix, x) in enumerate(xs):\n",
    "            output[ix][iy] = list_get_2d(src, x, y, 1)\n",
    "    return output\n",
    "\n",
    "def bicubic_resize(src, newWidth, newHeight):\n",
    "    mat = np.array([[-0.5, 1.5, -1.5, 0.5], \n",
    "                    [1.0, -2.5, 2, -0.5], \n",
    "                    [-0.5, 0, 0.5, 0], \n",
    "                    [0, 1.0, 0, 0]]).transpose()\n",
    "\n",
    "    (width, height) = size(src)\n",
    "    output = black_image(newWidth, newHeight)\n",
    "    for y in range(newHeight):\n",
    "        y_norm = float(y / (newHeight - 1)) * float(width - 1)\n",
    "        y_top = floor(y_norm)\n",
    "        y_bot = ceil(y_norm)\n",
    "        ys = [y_top - 1, y_top, y_bot, y_bot + 1]\n",
    "        y_floating = y_norm - y_top\n",
    "        for x in range(newWidth):\n",
    "            x_norm = float(x / (newWidth - 1)) * float(height - 1)\n",
    "            x_left = floor(x_norm)\n",
    "            x_right = ceil(x_norm)\n",
    "            xs = [x_left - 1, x_left, x_right, x_right + 1]\n",
    "            x_floating = x_norm - x_left\n",
    "            \n",
    "            window = pixels_matrix(src, xs, ys)\n",
    "            coefss = np.matmul(window, mat)\n",
    "            coefs = [cubic_ps(coefs)(x_floating) for coefs in coefss]\n",
    "            output[y][x] = cubic_ps(coefs)(y_floating)\n",
    "    return output\n",
    "\n"
   ]
  },
  {
   "cell_type": "code",
   "execution_count": 446,
   "id": "b3213495",
   "metadata": {},
   "outputs": [
    {
     "data": {
      "text/plain": [
       "<matplotlib.image.AxesImage at 0x168698d00>"
      ]
     },
     "execution_count": 446,
     "metadata": {},
     "output_type": "execute_result"
    },
    {
     "data": {
      "image/png": "[encoded data removed]",
      "text/plain": [
       "<Figure size 432x288 with 1 Axes>"
      ]
     },
     "metadata": {
      "needs_background": "light"
     },
     "output_type": "display_data"
    }
   ],
   "source": [
    "plt.imshow(bicubic_resize(bilinear_resize(matrix1, 32, 32), 64, 64), cmap='gray', vmin=0, vmax=1.0)"
   ]
  },
  {
   "cell_type": "code",
   "execution_count": 447,
   "id": "ca73a03c",
   "metadata": {},
   "outputs": [
    {
     "data": {
      "image/png": "[encoded data removed]",
      "text/plain": [
       "<Figure size 432x288 with 1 Axes>"
      ]
     },
     "metadata": {
      "needs_background": "light"
     },
     "output_type": "display_data"
    }
   ],
   "source": [
    "display_grayscale(cubic_resize(image, 20))"
   ]
  },
  {
   "cell_type": "code",
   "execution_count": 408,
   "id": "be4c8daf",
   "metadata": {},
   "outputs": [
    {
     "data": {
      "text/plain": [
       "array([[-3.55,  4.6 ,  1.55,  1.  ],\n",
       "       [-3.55,  4.6 ,  1.55,  1.  ],\n",
       "       [-3.55,  4.6 ,  1.55,  1.  ],\n",
       "       [-3.55,  4.6 ,  1.55,  1.  ]])"
      ]
     },
     "execution_count": 408,
     "metadata": {},
     "output_type": "execute_result"
    }
   ],
   "source": [
    "mat = np.array([[-0.5, 1.5, -1.5, 0.5], [1.0, -2.5, 2, -0.5], [-0.5, 0, 0.5, 0], [0, 1.0, 0, 0]]).transpose()\n",
    "vec = np.array([0.5, 1, 3.6, 1.2])\n",
    "vecs = np.array([vec, vec, vec, vec])\n",
    "\n",
    "np.matmul(vecs, mat)"
   ]
  },
  {
   "cell_type": "code",
   "execution_count": 413,
   "id": "85d3868d",
   "metadata": {},
   "outputs": [
    {
     "data": {
      "text/plain": [
       "4"
      ]
     },
     "execution_count": 413,
     "metadata": {},
     "output_type": "execute_result"
    }
   ],
   "source": [
    "len(np.zeros((3, 4))[0])"
   ]
  },
  {
   "cell_type": "code",
   "execution_count": null,
   "id": "3cc0dd76",
   "metadata": {},
   "outputs": [],
   "source": []
  }
 ],
 "metadata": {
  "kernelspec": {
   "display_name": "Python 3 (ipykernel)",
   "language": "python",
   "name": "python3"
  },
  "language_info": {
   "codemirror_mode": {
    "name": "ipython",
    "version": 3
   },
   "file_extension": ".py",
   "mimetype": "text/x-python",
   "name": "python",
   "nbconvert_exporter": "python",
   "pygments_lexer": "ipython3",
   "version": "3.9.13"
  }
 },
 "nbformat": 4,
 "nbformat_minor": 5
}
