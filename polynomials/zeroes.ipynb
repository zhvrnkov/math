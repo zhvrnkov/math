{
 "cells": [
  {
   "cell_type": "markdown",
   "id": "b486a46f",
   "metadata": {},
   "source": [
    "# Zeroes\n",
    "\n",
    "Factor theorem: finding zeroes of polynomial is same thing as factoring it into linear factors."
   ]
  },
  {
   "cell_type": "code",
   "execution_count": 1,
   "id": "a3515cdf",
   "metadata": {},
   "outputs": [
    {
     "data": {
      "text/plain": [
       "True"
      ]
     },
     "execution_count": 1,
     "metadata": {},
     "output_type": "execute_result"
    }
   ],
   "source": [
    "def P(x):\n",
    "    return x**3 - x**2 - 14*x + 24\n",
    "\n",
    "def P_factored(x):\n",
    "    return (x - 2) * (x - 3) * (x + 4)\n",
    "\n",
    "P(27) == P_factored(27)"
   ]
  },
  {
   "cell_type": "markdown",
   "id": "be46396b",
   "metadata": {},
   "source": [
    "From the factored form, we see that all zeroes of P are: {2, 3, -4}."
   ]
  },
  {
   "cell_type": "markdown",
   "id": "303fe6fa",
   "metadata": {},
   "source": [
    "### Rational zeroes theorem"
   ]
  },
  {
   "cell_type": "markdown",
   "id": "2fd6a89d",
   "metadata": {},
   "source": [
    "If the $ P(x) = a_nx^n + a_{n-1}x^{n-1} + ... + a_1x + a_0 $ has integer coefficients (where $ a_n \\neq 0 $ and $ a_0 \\neq 0 $), the every rational zero of $ P $ is of the form \n",
    "\n",
    "$ \\frac{p}{q} $\n",
    "\n",
    "where $ p $ and $ q $ are integers and "
   ]
  },
  {
   "cell_type": "code",
   "execution_count": 2,
   "id": "6dd5a60e",
   "metadata": {},
   "outputs": [
    {
     "data": {
      "text/plain": [
       "(3.0, 4.0, 17)"
      ]
     },
     "execution_count": 2,
     "metadata": {},
     "output_type": "execute_result"
    }
   ],
   "source": [
    "def quadratic_coefs(P):\n",
    "    c = P(0)\n",
    "    b = ((P(2) - c) - 4 * (P(1) - c)) / -2\n",
    "    a = P(1) - b - c\n",
    "    return (a, b, c)\n",
    "\n",
    "quadratic_coefs(lambda x: 3 * x**2 + 4 * x + 17)"
   ]
  },
  {
   "cell_type": "code",
   "execution_count": 3,
   "id": "d0d2649b",
   "metadata": {},
   "outputs": [],
   "source": [
    "def P(coefs):\n",
    "    l = len(coefs)\n",
    "    return (lambda x: sum([coefs[i] * x**((l - 1) - i) for i in range(l)]))\n",
    "\n",
    "# a_0 + a_2 + a_4 + ...\n",
    "def sum_of_all_even_coefficients(P):\n",
    "    return (P(-1) + P(1)) / 2\n",
    "\n",
    "# a_1 + a_3 + a_5 + ...\n",
    "def sum_of_all_odd_coefficients(P):\n",
    "    return P(1) - sum_of_all_even_coefficients(P)\n",
    "\n",
    "# 2a_1 + 8a_3 + 32a_5 + ...\n",
    "def even_coeffs_with_2n(P):\n",
    "    return (P(2) - P(0)) / 2 - (P(-2) - P(0)) / 2\n",
    "\n",
    "# a_0 + 4a_2 + 16a_4 + ...\n",
    "def odd_coeffs_with_2n(P):\n",
    "    return (P(2) - P(0)) / 2 + (P(-2) - P(0)) / 2\n",
    "\n",
    "# TODO: implement it for any n\n",
    "def forth_coeffs(P):\n",
    "    e = P(0)    \n",
    "    odds = sum_of_all_odd_coefficients(P)\n",
    "    evens = sum_of_all_even_coefficients(P)\n",
    "    eitb_plus_2d = even_coeffs_with_2n(P)\n",
    "    hexa_plus_4c = odd_coeffs_with_2n(P)\n",
    "    a = (hexa_plus_4c - 4 * (evens - e)) / 12\n",
    "    b = (eitb_plus_2d - 2 * odds) / 6\n",
    "    c = (hexa_plus_4c - 16 * (evens - e)) / -12\n",
    "    d = (eitb_plus_2d - 8 * odds) / -6\n",
    "    \n",
    "    return [a, b, c, d, e]"
   ]
  },
  {
   "cell_type": "code",
   "execution_count": 4,
   "id": "119e334a",
   "metadata": {},
   "outputs": [
    {
     "data": {
      "text/plain": [
       "(True, True)"
      ]
     },
     "execution_count": 4,
     "metadata": {},
     "output_type": "execute_result"
    }
   ],
   "source": [
    "coefficients = [14, 12, 3238, 123, 1]\n",
    "\n",
    "p = P(coefficients)\n",
    "\n",
    "all_even_coefficients = sum([coefficients[i] if i % 2 == 0 else 0 for i in range(len(coefficients))])\n",
    "all_odd_coefficients = sum(coefficients) - all_even_coefficients\n",
    "\n",
    "(sum_of_all_even_coefficients(p) == all_even_coefficients, sum_of_all_odd_coefficients(p) == all_odd_coefficients)"
   ]
  },
  {
   "cell_type": "code",
   "execution_count": 5,
   "id": "d4f076a0",
   "metadata": {},
   "outputs": [
    {
     "data": {
      "text/plain": [
       "True"
      ]
     },
     "execution_count": 5,
     "metadata": {},
     "output_type": "execute_result"
    }
   ],
   "source": [
    "coefficients = [5, 4, 3, 2, 3]\n",
    "p = P(coefficients)\n",
    "\n",
    "forth_coeffs(p) == coefficients"
   ]
  },
  {
   "cell_type": "code",
   "execution_count": 62,
   "id": "4174a35d",
   "metadata": {},
   "outputs": [],
   "source": [
    "from math import floor\n",
    "\n",
    "def is_int(x):\n",
    "    return floor(x) == x\n",
    "\n",
    "def possible_zeroes(a_n, a_0):\n",
    "    # a_0 / int = p\n",
    "    # a_n / int = q\n",
    "    possible_p_ints = range(-a_0, a_0+1)\n",
    "    possible_q_ints = range(-a_n, a_n+1)\n",
    "    ps = [a_0 / i for i in possible_p_ints if i != 0 and is_int(a_0 / i)]\n",
    "    qs = [a_n / i for i in possible_q_ints if i != 0 and is_int(a_n / i)]\n",
    "    output = list(set([p / q for p in ps for q in qs]))\n",
    "    return output\n",
    "\n",
    "def find_rational_zeroes(P):\n",
    "    coefficients = forth_coeffs(P)\n",
    "    # first non-zero\n",
    "    a_n = [c for c in coefficients if c != 0][0]\n",
    "    a_0 = coefficients[-1]\n",
    "    if a_n == 0 or a_0 == 0:\n",
    "        return []\n",
    "    # all are integers\n",
    "    if sum([is_int(c) for c in coefficients]) != len(coefficients):\n",
    "        return []\n",
    "    p_zeroes = possible_zeroes(int(a_n), int(a_0))\n",
    "    output = []\n",
    "    for zero in p_zeroes:\n",
    "        if P(zero) == 0:\n",
    "            output.append(zero)\n",
    "    return output"
   ]
  },
  {
   "cell_type": "code",
   "execution_count": 63,
   "id": "9861eae4",
   "metadata": {},
   "outputs": [
    {
     "data": {
      "text/plain": [
       "[]"
      ]
     },
     "execution_count": 63,
     "metadata": {},
     "output_type": "execute_result"
    }
   ],
   "source": [
    "p = P([1,2,3,4,3.2])\n",
    "find_rational_zeroes(p)"
   ]
  },
  {
   "cell_type": "code",
   "execution_count": 64,
   "id": "ff46c452",
   "metadata": {},
   "outputs": [
    {
     "data": {
      "text/plain": [
       "[1.0, -2.0]"
      ]
     },
     "execution_count": 64,
     "metadata": {},
     "output_type": "execute_result"
    }
   ],
   "source": [
    "p = P([1, 0, -3, 2])\n",
    "\n",
    "find_rational_zeroes(p)"
   ]
  },
  {
   "cell_type": "code",
   "execution_count": 65,
   "id": "a60d609f",
   "metadata": {},
   "outputs": [
    {
     "data": {
      "text/plain": [
       "[0.5, 2.0, -3.0]"
      ]
     },
     "execution_count": 65,
     "metadata": {},
     "output_type": "execute_result"
    }
   ],
   "source": [
    "find_rational_zeroes(P([2, 1, -13, 6]))"
   ]
  },
  {
   "cell_type": "code",
   "execution_count": 66,
   "id": "fbc045b8",
   "metadata": {},
   "outputs": [
    {
     "data": {
      "text/plain": [
       "[1.0, 2.0, 4.0, -2.0, -4.0, -1.0]"
      ]
     },
     "execution_count": 66,
     "metadata": {},
     "output_type": "execute_result"
    }
   ],
   "source": [
    "possible_zeroes(1, 4)"
   ]
  },
  {
   "cell_type": "code",
   "execution_count": 67,
   "id": "1c42b858",
   "metadata": {},
   "outputs": [
    {
     "data": {
      "text/plain": [
       "[-2.0]"
      ]
     },
     "execution_count": 67,
     "metadata": {},
     "output_type": "execute_result"
    }
   ],
   "source": [
    "find_rational_zeroes(P([1, 0, -2, 4]))"
   ]
  },
  {
   "cell_type": "code",
   "execution_count": null,
   "id": "2ccf26da",
   "metadata": {},
   "outputs": [],
   "source": []
  }
 ],
 "metadata": {
  "kernelspec": {
   "display_name": "Python 3 (ipykernel)",
   "language": "python",
   "name": "python3"
  },
  "language_info": {
   "codemirror_mode": {
    "name": "ipython",
    "version": 3
   },
   "file_extension": ".py",
   "mimetype": "text/x-python",
   "name": "python",
   "nbconvert_exporter": "python",
   "pygments_lexer": "ipython3",
   "version": "3.9.7"
  }
 },
 "nbformat": 4,
 "nbformat_minor": 5
}
