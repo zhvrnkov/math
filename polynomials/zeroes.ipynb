{
 "cells": [
  {
   "cell_type": "markdown",
   "id": "b486a46f",
   "metadata": {},
   "source": [
    "# Zeroes\n",
    "\n",
    "Factor theorem: finding zeroes of polynomial is same thing as factoring it into linear factors."
   ]
  },
  {
   "cell_type": "code",
   "execution_count": 2,
   "id": "a3515cdf",
   "metadata": {},
   "outputs": [
    {
     "data": {
      "text/plain": [
       "True"
      ]
     },
     "execution_count": 2,
     "metadata": {},
     "output_type": "execute_result"
    }
   ],
   "source": [
    "def P(x):\n",
    "    return x**3 - x**2 - 14*x + 24\n",
    "\n",
    "def P_factored(x):\n",
    "    return (x - 2) * (x - 3) * (x + 4)\n",
    "\n",
    "P(27) == P_factored(27)"
   ]
  },
  {
   "cell_type": "markdown",
   "id": "be46396b",
   "metadata": {},
   "source": [
    "From the factored form, we see that all zeroes of P are: {2, 3, -4}."
   ]
  },
  {
   "cell_type": "markdown",
   "id": "303fe6fa",
   "metadata": {},
   "source": [
    "### Rational zeroes theorem"
   ]
  },
  {
   "cell_type": "markdown",
   "id": "2fd6a89d",
   "metadata": {},
   "source": [
    "If the $ P(x) = a_nx^n + a_{n-1}x^{n-1} + ... + a_1x + a_0 $ has integer coefficients (where $ a_n \\neq 0 $ and $ a_0 \\neq 0 $), the every rational zero of $ P $ is of the form \n",
    "\n",
    "$ \\frac{p}{q} $\n",
    "\n",
    "where $ p $ and $ q $ are integers and "
   ]
  },
  {
   "cell_type": "code",
   "execution_count": null,
   "id": "6dd5a60e",
   "metadata": {},
   "outputs": [],
   "source": []
  }
 ],
 "metadata": {
  "kernelspec": {
   "display_name": "Python 3 (ipykernel)",
   "language": "python",
   "name": "python3"
  },
  "language_info": {
   "codemirror_mode": {
    "name": "ipython",
    "version": 3
   },
   "file_extension": ".py",
   "mimetype": "text/x-python",
   "name": "python",
   "nbconvert_exporter": "python",
   "pygments_lexer": "ipython3",
   "version": "3.9.7"
  }
 },
 "nbformat": 4,
 "nbformat_minor": 5
}
