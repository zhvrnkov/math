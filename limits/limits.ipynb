{
 "cells": [
  {
   "cell_type": "code",
   "execution_count": 142,
   "id": "b1167848",
   "metadata": {},
   "outputs": [],
   "source": [
    "import pandas as pd\n",
    "import matplotlib.pyplot as plt\n",
    "import numpy as np\n",
    "import math"
   ]
  },
  {
   "cell_type": "code",
   "execution_count": 143,
   "id": "d706cf09",
   "metadata": {},
   "outputs": [],
   "source": [
    "def lim(f, a, lim_sign=-1, samples_count=10, draw_table=True):\n",
    "    vF = np.vectorize(f)\n",
    "    xs = np.linspace(a+(lim_sign * 0.1), a, samples_count)[:-1]\n",
    "    ys = vF(xs)\n",
    "    if draw_table:\n",
    "        columns = [\"x\", \"f(x)\"]\n",
    "        return pd.DataFrame(zip(xs, ys),columns=columns)\n",
    "    return ys\n",
    "\n",
    "def plot(f, xs):\n",
    "    vF = np.vectorize(f)\n",
    "    ys = vF(xs)\n",
    "    plt.plot(xs, ys)\n"
   ]
  },
  {
   "cell_type": "code",
   "execution_count": 144,
   "id": "9af051f1",
   "metadata": {},
   "outputs": [],
   "source": [
    "def f11(x):\n",
    "    return (x + 4) / (x**2 + 7 * x + 12)\n"
   ]
  },
  {
   "cell_type": "code",
   "execution_count": 145,
   "id": "51731ab0",
   "metadata": {},
   "outputs": [
    {
     "data": {
      "text/html": [
       "<div>\n",
       "<style scoped>\n",
       "    .dataframe tbody tr th:only-of-type {\n",
       "        vertical-align: middle;\n",
       "    }\n",
       "\n",
       "    .dataframe tbody tr th {\n",
       "        vertical-align: top;\n",
       "    }\n",
       "\n",
       "    .dataframe thead th {\n",
       "        text-align: right;\n",
       "    }\n",
       "</style>\n",
       "<table border=\"1\" class=\"dataframe\">\n",
       "  <thead>\n",
       "    <tr style=\"text-align: right;\">\n",
       "      <th></th>\n",
       "      <th>x</th>\n",
       "      <th>f(x)</th>\n",
       "    </tr>\n",
       "  </thead>\n",
       "  <tbody>\n",
       "    <tr>\n",
       "      <th>0</th>\n",
       "      <td>-4.100000</td>\n",
       "      <td>-0.909091</td>\n",
       "    </tr>\n",
       "    <tr>\n",
       "      <th>1</th>\n",
       "      <td>-4.088889</td>\n",
       "      <td>-0.918367</td>\n",
       "    </tr>\n",
       "    <tr>\n",
       "      <th>2</th>\n",
       "      <td>-4.077778</td>\n",
       "      <td>-0.927835</td>\n",
       "    </tr>\n",
       "    <tr>\n",
       "      <th>3</th>\n",
       "      <td>-4.066667</td>\n",
       "      <td>-0.937500</td>\n",
       "    </tr>\n",
       "    <tr>\n",
       "      <th>4</th>\n",
       "      <td>-4.055556</td>\n",
       "      <td>-0.947368</td>\n",
       "    </tr>\n",
       "    <tr>\n",
       "      <th>5</th>\n",
       "      <td>-4.044444</td>\n",
       "      <td>-0.957447</td>\n",
       "    </tr>\n",
       "    <tr>\n",
       "      <th>6</th>\n",
       "      <td>-4.033333</td>\n",
       "      <td>-0.967742</td>\n",
       "    </tr>\n",
       "    <tr>\n",
       "      <th>7</th>\n",
       "      <td>-4.022222</td>\n",
       "      <td>-0.978261</td>\n",
       "    </tr>\n",
       "    <tr>\n",
       "      <th>8</th>\n",
       "      <td>-4.011111</td>\n",
       "      <td>-0.989011</td>\n",
       "    </tr>\n",
       "  </tbody>\n",
       "</table>\n",
       "</div>"
      ],
      "text/plain": [
       "          x      f(x)\n",
       "0 -4.100000 -0.909091\n",
       "1 -4.088889 -0.918367\n",
       "2 -4.077778 -0.927835\n",
       "3 -4.066667 -0.937500\n",
       "4 -4.055556 -0.947368\n",
       "5 -4.044444 -0.957447\n",
       "6 -4.033333 -0.967742\n",
       "7 -4.022222 -0.978261\n",
       "8 -4.011111 -0.989011"
      ]
     },
     "execution_count": 145,
     "metadata": {},
     "output_type": "execute_result"
    }
   ],
   "source": [
    "lim(f11, -4, -1)"
   ]
  },
  {
   "cell_type": "code",
   "execution_count": 146,
   "id": "98622234",
   "metadata": {},
   "outputs": [
    {
     "data": {
      "image/png": "[encoded data removed]",
      "text/plain": [
       "<Figure size 432x288 with 1 Axes>"
      ]
     },
     "metadata": {
      "needs_background": "light"
     },
     "output_type": "display_data"
    }
   ],
   "source": [
    "plot(f11, np.linspace(-4.5, -3.5, 10))"
   ]
  },
  {
   "cell_type": "code",
   "execution_count": 147,
   "id": "cb1b4017",
   "metadata": {},
   "outputs": [],
   "source": [
    "def f12(x):\n",
    "    return (x**3 - 1) / (x**2 - 1)\n"
   ]
  },
  {
   "cell_type": "code",
   "execution_count": 148,
   "id": "fa00331e",
   "metadata": {},
   "outputs": [
    {
     "data": {
      "text/html": [
       "<div>\n",
       "<style scoped>\n",
       "    .dataframe tbody tr th:only-of-type {\n",
       "        vertical-align: middle;\n",
       "    }\n",
       "\n",
       "    .dataframe tbody tr th {\n",
       "        vertical-align: top;\n",
       "    }\n",
       "\n",
       "    .dataframe thead th {\n",
       "        text-align: right;\n",
       "    }\n",
       "</style>\n",
       "<table border=\"1\" class=\"dataframe\">\n",
       "  <thead>\n",
       "    <tr style=\"text-align: right;\">\n",
       "      <th></th>\n",
       "      <th>x</th>\n",
       "      <th>f(x)</th>\n",
       "    </tr>\n",
       "  </thead>\n",
       "  <tbody>\n",
       "    <tr>\n",
       "      <th>0</th>\n",
       "      <td>1.100000</td>\n",
       "      <td>1.576190</td>\n",
       "    </tr>\n",
       "    <tr>\n",
       "      <th>1</th>\n",
       "      <td>1.088889</td>\n",
       "      <td>1.567612</td>\n",
       "    </tr>\n",
       "    <tr>\n",
       "      <th>2</th>\n",
       "      <td>1.077778</td>\n",
       "      <td>1.559061</td>\n",
       "    </tr>\n",
       "    <tr>\n",
       "      <th>3</th>\n",
       "      <td>1.066667</td>\n",
       "      <td>1.550538</td>\n",
       "    </tr>\n",
       "    <tr>\n",
       "      <th>4</th>\n",
       "      <td>1.055556</td>\n",
       "      <td>1.542042</td>\n",
       "    </tr>\n",
       "    <tr>\n",
       "      <th>5</th>\n",
       "      <td>1.044444</td>\n",
       "      <td>1.533575</td>\n",
       "    </tr>\n",
       "    <tr>\n",
       "      <th>6</th>\n",
       "      <td>1.033333</td>\n",
       "      <td>1.525137</td>\n",
       "    </tr>\n",
       "    <tr>\n",
       "      <th>7</th>\n",
       "      <td>1.022222</td>\n",
       "      <td>1.516728</td>\n",
       "    </tr>\n",
       "    <tr>\n",
       "      <th>8</th>\n",
       "      <td>1.011111</td>\n",
       "      <td>1.508349</td>\n",
       "    </tr>\n",
       "  </tbody>\n",
       "</table>\n",
       "</div>"
      ],
      "text/plain": [
       "          x      f(x)\n",
       "0  1.100000  1.576190\n",
       "1  1.088889  1.567612\n",
       "2  1.077778  1.559061\n",
       "3  1.066667  1.550538\n",
       "4  1.055556  1.542042\n",
       "5  1.044444  1.533575\n",
       "6  1.033333  1.525137\n",
       "7  1.022222  1.516728\n",
       "8  1.011111  1.508349"
      ]
     },
     "execution_count": 148,
     "metadata": {},
     "output_type": "execute_result"
    }
   ],
   "source": [
    "lim(f12, 1, +1)"
   ]
  },
  {
   "cell_type": "code",
   "execution_count": 136,
   "id": "0cfc91bf",
   "metadata": {},
   "outputs": [
    {
     "data": {
      "image/png": "[encoded data removed]",
      "text/plain": [
       "<Figure size 432x288 with 1 Axes>"
      ]
     },
     "metadata": {
      "needs_background": "light"
     },
     "output_type": "display_data"
    }
   ],
   "source": [
    "plot(f12, np.linspace(1.1, 0.9, 10))"
   ]
  },
  {
   "cell_type": "code",
   "execution_count": 137,
   "id": "cb155ce0",
   "metadata": {},
   "outputs": [],
   "source": [
    "def f13(x):\n",
    "    return (5**x - 3**x) / x"
   ]
  },
  {
   "cell_type": "code",
   "execution_count": 138,
   "id": "56ad0bd3",
   "metadata": {},
   "outputs": [
    {
     "data": {
      "text/html": [
       "<div>\n",
       "<style scoped>\n",
       "    .dataframe tbody tr th:only-of-type {\n",
       "        vertical-align: middle;\n",
       "    }\n",
       "\n",
       "    .dataframe tbody tr th {\n",
       "        vertical-align: top;\n",
       "    }\n",
       "\n",
       "    .dataframe thead th {\n",
       "        text-align: right;\n",
       "    }\n",
       "</style>\n",
       "<table border=\"1\" class=\"dataframe\">\n",
       "  <thead>\n",
       "    <tr style=\"text-align: right;\">\n",
       "      <th></th>\n",
       "      <th>x</th>\n",
       "      <th>f(x)</th>\n",
       "    </tr>\n",
       "  </thead>\n",
       "  <tbody>\n",
       "    <tr>\n",
       "      <th>0</th>\n",
       "      <td>0.100000</td>\n",
       "      <td>0.584958</td>\n",
       "    </tr>\n",
       "    <tr>\n",
       "      <th>1</th>\n",
       "      <td>0.088889</td>\n",
       "      <td>0.576210</td>\n",
       "    </tr>\n",
       "    <tr>\n",
       "      <th>2</th>\n",
       "      <td>0.077778</td>\n",
       "      <td>0.567594</td>\n",
       "    </tr>\n",
       "    <tr>\n",
       "      <th>3</th>\n",
       "      <td>0.066667</td>\n",
       "      <td>0.559109</td>\n",
       "    </tr>\n",
       "    <tr>\n",
       "      <th>4</th>\n",
       "      <td>0.055556</td>\n",
       "      <td>0.550752</td>\n",
       "    </tr>\n",
       "    <tr>\n",
       "      <th>5</th>\n",
       "      <td>0.044444</td>\n",
       "      <td>0.542522</td>\n",
       "    </tr>\n",
       "    <tr>\n",
       "      <th>6</th>\n",
       "      <td>0.033333</td>\n",
       "      <td>0.534416</td>\n",
       "    </tr>\n",
       "    <tr>\n",
       "      <th>7</th>\n",
       "      <td>0.022222</td>\n",
       "      <td>0.526432</td>\n",
       "    </tr>\n",
       "    <tr>\n",
       "      <th>8</th>\n",
       "      <td>0.011111</td>\n",
       "      <td>0.518570</td>\n",
       "    </tr>\n",
       "  </tbody>\n",
       "</table>\n",
       "</div>"
      ],
      "text/plain": [
       "          x      f(x)\n",
       "0  0.100000  0.584958\n",
       "1  0.088889  0.576210\n",
       "2  0.077778  0.567594\n",
       "3  0.066667  0.559109\n",
       "4  0.055556  0.550752\n",
       "5  0.044444  0.542522\n",
       "6  0.033333  0.534416\n",
       "7  0.022222  0.526432\n",
       "8  0.011111  0.518570"
      ]
     },
     "execution_count": 138,
     "metadata": {},
     "output_type": "execute_result"
    }
   ],
   "source": [
    "lim(f13, 0, +1)"
   ]
  },
  {
   "cell_type": "code",
   "execution_count": 149,
   "id": "d3556bf2",
   "metadata": {},
   "outputs": [],
   "source": [
    "def f34(x):\n",
    "    return (math.tan(x) - x) / x**3"
   ]
  },
  {
   "cell_type": "code",
   "execution_count": 150,
   "id": "2d740a8a",
   "metadata": {},
   "outputs": [
    {
     "data": {
      "image/png": "[encoded data removed]",
      "text/plain": [
       "<Figure size 432x288 with 1 Axes>"
      ]
     },
     "metadata": {
      "needs_background": "light"
     },
     "output_type": "display_data"
    }
   ],
   "source": [
    "plot(f34, np.array([1, 0.5, 0.1, 0.05, 0.01, 0.005]))"
   ]
  },
  {
   "cell_type": "code",
   "execution_count": 152,
   "id": "1aaaa26e",
   "metadata": {},
   "outputs": [
    {
     "data": {
      "image/png": "[encoded data removed]",
      "text/plain": [
       "<Figure size 432x288 with 1 Axes>"
      ]
     },
     "metadata": {
      "needs_background": "light"
     },
     "output_type": "display_data"
    }
   ],
   "source": [
    "plot(f34, np.linspace(1, 0.0001, 100))"
   ]
  },
  {
   "cell_type": "code",
   "execution_count": 153,
   "id": "af84fd5f",
   "metadata": {},
   "outputs": [
    {
     "data": {
      "image/png": "[encoded data removed]",
      "text/plain": [
       "<Figure size 432x288 with 1 Axes>"
      ]
     },
     "metadata": {
      "needs_background": "light"
     },
     "output_type": "display_data"
    }
   ],
   "source": [
    "plot(f34, np.linspace(-1, -0.0001, 100))"
   ]
  },
  {
   "cell_type": "code",
   "execution_count": 154,
   "id": "fe846859",
   "metadata": {},
   "outputs": [
    {
     "data": {
      "text/plain": [
       "0.33333333651890806"
      ]
     },
     "execution_count": 154,
     "metadata": {},
     "output_type": "execute_result"
    }
   ],
   "source": [
    "f34(-0.0001)"
   ]
  },
  {
   "cell_type": "code",
   "execution_count": 165,
   "id": "d2a25b8b",
   "metadata": {},
   "outputs": [
    {
     "data": {
      "text/plain": [
       "0.3333336077367664"
      ]
     },
     "execution_count": 165,
     "metadata": {},
     "output_type": "execute_result"
    }
   ],
   "source": [
    "f34(0.000009)"
   ]
  },
  {
   "cell_type": "code",
   "execution_count": 166,
   "id": "2f95b94b",
   "metadata": {},
   "outputs": [],
   "source": [
    "def f45(x):\n",
    "    return x / (math.sqrt(1 + 3 * x) - 1)\n"
   ]
  },
  {
   "cell_type": "code",
   "execution_count": 169,
   "id": "b4d377a0",
   "metadata": {},
   "outputs": [
    {
     "data": {
      "text/html": [
       "<div>\n",
       "<style scoped>\n",
       "    .dataframe tbody tr th:only-of-type {\n",
       "        vertical-align: middle;\n",
       "    }\n",
       "\n",
       "    .dataframe tbody tr th {\n",
       "        vertical-align: top;\n",
       "    }\n",
       "\n",
       "    .dataframe thead th {\n",
       "        text-align: right;\n",
       "    }\n",
       "</style>\n",
       "<table border=\"1\" class=\"dataframe\">\n",
       "  <thead>\n",
       "    <tr style=\"text-align: right;\">\n",
       "      <th></th>\n",
       "      <th>x</th>\n",
       "      <th>f(x)</th>\n",
       "    </tr>\n",
       "  </thead>\n",
       "  <tbody>\n",
       "    <tr>\n",
       "      <th>0</th>\n",
       "      <td>-0.100000</td>\n",
       "      <td>0.612220</td>\n",
       "    </tr>\n",
       "    <tr>\n",
       "      <th>1</th>\n",
       "      <td>-0.098990</td>\n",
       "      <td>0.612823</td>\n",
       "    </tr>\n",
       "    <tr>\n",
       "      <th>2</th>\n",
       "      <td>-0.097980</td>\n",
       "      <td>0.613425</td>\n",
       "    </tr>\n",
       "    <tr>\n",
       "      <th>3</th>\n",
       "      <td>-0.096970</td>\n",
       "      <td>0.614025</td>\n",
       "    </tr>\n",
       "    <tr>\n",
       "      <th>4</th>\n",
       "      <td>-0.095960</td>\n",
       "      <td>0.614624</td>\n",
       "    </tr>\n",
       "    <tr>\n",
       "      <th>...</th>\n",
       "      <td>...</td>\n",
       "      <td>...</td>\n",
       "    </tr>\n",
       "    <tr>\n",
       "      <th>94</th>\n",
       "      <td>-0.005051</td>\n",
       "      <td>0.664132</td>\n",
       "    </tr>\n",
       "    <tr>\n",
       "      <th>95</th>\n",
       "      <td>-0.004040</td>\n",
       "      <td>0.664640</td>\n",
       "    </tr>\n",
       "    <tr>\n",
       "      <th>96</th>\n",
       "      <td>-0.003030</td>\n",
       "      <td>0.665148</td>\n",
       "    </tr>\n",
       "    <tr>\n",
       "      <th>97</th>\n",
       "      <td>-0.002020</td>\n",
       "      <td>0.665655</td>\n",
       "    </tr>\n",
       "    <tr>\n",
       "      <th>98</th>\n",
       "      <td>-0.001010</td>\n",
       "      <td>0.666161</td>\n",
       "    </tr>\n",
       "  </tbody>\n",
       "</table>\n",
       "<p>99 rows × 2 columns</p>\n",
       "</div>"
      ],
      "text/plain": [
       "           x      f(x)\n",
       "0  -0.100000  0.612220\n",
       "1  -0.098990  0.612823\n",
       "2  -0.097980  0.613425\n",
       "3  -0.096970  0.614025\n",
       "4  -0.095960  0.614624\n",
       "..       ...       ...\n",
       "94 -0.005051  0.664132\n",
       "95 -0.004040  0.664640\n",
       "96 -0.003030  0.665148\n",
       "97 -0.002020  0.665655\n",
       "98 -0.001010  0.666161\n",
       "\n",
       "[99 rows x 2 columns]"
      ]
     },
     "execution_count": 169,
     "metadata": {},
     "output_type": "execute_result"
    }
   ],
   "source": [
    "lim(f45, 0, samples_count=100)"
   ]
  },
  {
   "cell_type": "code",
   "execution_count": 170,
   "id": "e7dcd496",
   "metadata": {},
   "outputs": [],
   "source": [
    "def f46(x):\n",
    "    return (math.sqrt(3 + x) - math.sqrt(3)) / x"
   ]
  },
  {
   "cell_type": "code",
   "execution_count": 171,
   "id": "a73373e0",
   "metadata": {},
   "outputs": [
    {
     "data": {
      "text/html": [
       "<div>\n",
       "<style scoped>\n",
       "    .dataframe tbody tr th:only-of-type {\n",
       "        vertical-align: middle;\n",
       "    }\n",
       "\n",
       "    .dataframe tbody tr th {\n",
       "        vertical-align: top;\n",
       "    }\n",
       "\n",
       "    .dataframe thead th {\n",
       "        text-align: right;\n",
       "    }\n",
       "</style>\n",
       "<table border=\"1\" class=\"dataframe\">\n",
       "  <thead>\n",
       "    <tr style=\"text-align: right;\">\n",
       "      <th></th>\n",
       "      <th>x</th>\n",
       "      <th>f(x)</th>\n",
       "    </tr>\n",
       "  </thead>\n",
       "  <tbody>\n",
       "    <tr>\n",
       "      <th>0</th>\n",
       "      <td>-0.100000</td>\n",
       "      <td>0.291122</td>\n",
       "    </tr>\n",
       "    <tr>\n",
       "      <th>1</th>\n",
       "      <td>-0.098990</td>\n",
       "      <td>0.291097</td>\n",
       "    </tr>\n",
       "    <tr>\n",
       "      <th>2</th>\n",
       "      <td>-0.097980</td>\n",
       "      <td>0.291071</td>\n",
       "    </tr>\n",
       "    <tr>\n",
       "      <th>3</th>\n",
       "      <td>-0.096970</td>\n",
       "      <td>0.291046</td>\n",
       "    </tr>\n",
       "    <tr>\n",
       "      <th>4</th>\n",
       "      <td>-0.095960</td>\n",
       "      <td>0.291021</td>\n",
       "    </tr>\n",
       "    <tr>\n",
       "      <th>...</th>\n",
       "      <td>...</td>\n",
       "      <td>...</td>\n",
       "    </tr>\n",
       "    <tr>\n",
       "      <th>94</th>\n",
       "      <td>-0.005051</td>\n",
       "      <td>0.288797</td>\n",
       "    </tr>\n",
       "    <tr>\n",
       "      <th>95</th>\n",
       "      <td>-0.004040</td>\n",
       "      <td>0.288772</td>\n",
       "    </tr>\n",
       "    <tr>\n",
       "      <th>96</th>\n",
       "      <td>-0.003030</td>\n",
       "      <td>0.288748</td>\n",
       "    </tr>\n",
       "    <tr>\n",
       "      <th>97</th>\n",
       "      <td>-0.002020</td>\n",
       "      <td>0.288724</td>\n",
       "    </tr>\n",
       "    <tr>\n",
       "      <th>98</th>\n",
       "      <td>-0.001010</td>\n",
       "      <td>0.288699</td>\n",
       "    </tr>\n",
       "  </tbody>\n",
       "</table>\n",
       "<p>99 rows × 2 columns</p>\n",
       "</div>"
      ],
      "text/plain": [
       "           x      f(x)\n",
       "0  -0.100000  0.291122\n",
       "1  -0.098990  0.291097\n",
       "2  -0.097980  0.291071\n",
       "3  -0.096970  0.291046\n",
       "4  -0.095960  0.291021\n",
       "..       ...       ...\n",
       "94 -0.005051  0.288797\n",
       "95 -0.004040  0.288772\n",
       "96 -0.003030  0.288748\n",
       "97 -0.002020  0.288724\n",
       "98 -0.001010  0.288699\n",
       "\n",
       "[99 rows x 2 columns]"
      ]
     },
     "execution_count": 171,
     "metadata": {},
     "output_type": "execute_result"
    }
   ],
   "source": [
    "lim(f46, 0, samples_count=100)"
   ]
  },
  {
   "cell_type": "code",
   "execution_count": 172,
   "id": "5736cfa1",
   "metadata": {},
   "outputs": [],
   "source": [
    "def distance(t):\n",
    "    return 3000 - 16 * (t ** 2)\n"
   ]
  },
  {
   "cell_type": "code",
   "execution_count": 173,
   "id": "5ad3c962",
   "metadata": {},
   "outputs": [
    {
     "name": "stdout",
     "output_type": "stream",
     "text": [
      "-128.0000160477357\n"
     ]
    }
   ],
   "source": [
    "h = 0.000001\n",
    "t = 4\n",
    "print((distance(t + h) - distance(t)) / h)"
   ]
  },
  {
   "cell_type": "code",
   "execution_count": 176,
   "id": "df9d40c2",
   "metadata": {},
   "outputs": [
    {
     "name": "stdout",
     "output_type": "stream",
     "text": [
      "-128.00001599089228\n"
     ]
    }
   ],
   "source": [
    "print((256 - 16 * ((t + h)**2)) / h)"
   ]
  },
  {
   "cell_type": "code",
   "execution_count": 178,
   "id": "31b5c85f",
   "metadata": {},
   "outputs": [
    {
     "name": "stdout",
     "output_type": "stream",
     "text": [
      "-7.999999000000001\n"
     ]
    }
   ],
   "source": [
    "print((-8 * h + (h**2)) / h)"
   ]
  },
  {
   "cell_type": "code",
   "execution_count": 179,
   "id": "5f1a496c",
   "metadata": {},
   "outputs": [
    {
     "name": "stdout",
     "output_type": "stream",
     "text": [
      "-128.00001599089228\n"
     ]
    }
   ],
   "source": [
    "print((256 - 16 * (t**2 + 2 * t * h + h**2)) / h)"
   ]
  },
  {
   "cell_type": "code",
   "execution_count": null,
   "id": "e1b289fd",
   "metadata": {},
   "outputs": [],
   "source": []
  }
 ],
 "metadata": {
  "kernelspec": {
   "display_name": "Python 3 (ipykernel)",
   "language": "python",
   "name": "python3"
  },
  "language_info": {
   "codemirror_mode": {
    "name": "ipython",
    "version": 3
   },
   "file_extension": ".py",
   "mimetype": "text/x-python",
   "name": "python",
   "nbconvert_exporter": "python",
   "pygments_lexer": "ipython3",
   "version": "3.9.7"
  }
 },
 "nbformat": 4,
 "nbformat_minor": 5
}
